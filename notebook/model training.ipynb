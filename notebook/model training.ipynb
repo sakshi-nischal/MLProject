{
 "cells": [
  {
   "cell_type": "code",
   "execution_count": 1,
   "metadata": {},
   "outputs": [],
   "source": [
    "import numpy as np\n",
    "import pandas as pd\n",
    "import matplotlib.pyplot as plt\n",
    "from sklearn.linear_model import LinearRegression, Ridge, Lasso"
   ]
  },
  {
   "cell_type": "code",
   "execution_count": 2,
   "metadata": {},
   "outputs": [],
   "source": [
    "student_df = pd.read_csv(\"data/stud.csv\")"
   ]
  },
  {
   "cell_type": "code",
   "execution_count": 3,
   "metadata": {},
   "outputs": [],
   "source": [
    "student_df[\"total_score\"] = student_df[\"math_score\"] + student_df[\"reading_score\"] + student_df[\"writing_score\"]"
   ]
  },
  {
   "cell_type": "code",
   "execution_count": 4,
   "metadata": {},
   "outputs": [],
   "source": [
    "y = student_df[\"total_score\"]\n",
    "X = student_df.drop(columns=[\"total_score\",\"math_score\",\"reading_score\",\"writing_score\"], axis = 1)\n"
   ]
  },
  {
   "cell_type": "code",
   "execution_count": 5,
   "metadata": {},
   "outputs": [
    {
     "name": "stdout",
     "output_type": "stream",
     "text": [
      "Gender:  ['female' 'male']\n",
      "Race Ethnicity:  ['group B' 'group C' 'group A' 'group D' 'group E']\n",
      "Parental Level of Education:  [\"bachelor's degree\" 'some college' \"master's degree\" \"associate's degree\"\n",
      " 'high school' 'some high school']\n",
      "Lunch:  ['standard' 'free/reduced']\n",
      "Test Preparation Course:  ['none' 'completed']\n"
     ]
    }
   ],
   "source": [
    "print(\"Gender: \",end=\" \")\n",
    "print(student_df['gender'].unique())\n",
    "\n",
    "print(\"Race Ethnicity: \",end=\" \")\n",
    "print(student_df['race_ethnicity'].unique())\n",
    "\n",
    "print(\"Parental Level of Education: \",end=\" \")\n",
    "print(student_df['parental_level_of_education'].unique())\n",
    "\n",
    "print(\"Lunch: \",end=\" \")\n",
    "print(student_df['lunch'].unique())\n",
    "\n",
    "print(\"Test Preparation Course: \",end=\" \")\n",
    "print(student_df['test_preparation_course'].unique())"
   ]
  },
  {
   "cell_type": "code",
   "execution_count": null,
   "metadata": {},
   "outputs": [],
   "source": []
  }
 ],
 "metadata": {
  "kernelspec": {
   "display_name": "Python 3",
   "language": "python",
   "name": "python3"
  },
  "language_info": {
   "codemirror_mode": {
    "name": "ipython",
    "version": 3
   },
   "file_extension": ".py",
   "mimetype": "text/x-python",
   "name": "python",
   "nbconvert_exporter": "python",
   "pygments_lexer": "ipython3",
   "version": "3.8.0"
  }
 },
 "nbformat": 4,
 "nbformat_minor": 2
}
